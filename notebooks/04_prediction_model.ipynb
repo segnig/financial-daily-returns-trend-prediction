{
 "cells": [
  {
   "cell_type": "code",
   "execution_count": null,
   "id": "a205689d",
   "metadata": {},
   "outputs": [],
   "source": []
  }
 ],
 "metadata": {
  "kernelspec": {
   "display_name": ".venv",
   "language": "python",
   "name": "python3"
  },
  "language_info": {
   "name": "python",
   "version": "3.11.9"
  }
 },
 "nbformat": 4,
 "nbformat_minor": 5
}
